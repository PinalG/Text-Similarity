{
 "cells": [
  {
   "cell_type": "markdown",
   "id": "6d1149cf-1de8-41ba-bfae-74f3cfdb1c1d",
   "metadata": {},
   "source": [
    "# Text Similarity\n",
    "Checking similarity between two documents using TF-IDF and Cosine Similarity"
   ]
  },
  {
   "cell_type": "code",
   "execution_count": 2,
   "id": "e8b4b9bb-2e8c-4e20-bede-14f813942778",
   "metadata": {},
   "outputs": [
    {
     "name": "stdout",
     "output_type": "stream",
     "text": [
      "Cosine similarity between the text documents is: 0.2244472271602016\n"
     ]
    },
    {
     "name": "stderr",
     "output_type": "stream",
     "text": [
      "[nltk_data] Downloading package punkt to\n",
      "[nltk_data]     C:\\Users\\pinal\\AppData\\Roaming\\nltk_data...\n",
      "[nltk_data]   Package punkt is already up-to-date!\n",
      "[nltk_data] Downloading package stopwords to\n",
      "[nltk_data]     C:\\Users\\pinal\\AppData\\Roaming\\nltk_data...\n",
      "[nltk_data]   Package stopwords is already up-to-date!\n"
     ]
    }
   ],
   "source": [
    "import nltk\n",
    "from nltk.tokenize import word_tokenize\n",
    "from nltk.corpus import stopwords\n",
    "from nltk.stem import PorterStemmer\n",
    "from sklearn.feature_extraction.text import TfidfVectorizer\n",
    "from sklearn.metrics.pairwise import cosine_similarity\n",
    "\n",
    "nltk.download('punkt')\n",
    "nltk.download('stopwords')\n",
    "\n",
    "def preprocess_text(text):\n",
    "    ''' This function pre process the text by implementing the following steps:\n",
    "        - Text is converted to lower cap and tokenized using word_tokenize\n",
    "        - Stop words are removed from tokens and filtered\n",
    "        - Stemming is applied on filtered tokens\n",
    "        - Lastly, a string is created which is returned by the function\n",
    "        '''\n",
    "    \n",
    "    tokens = word_tokenize(text.lower())\n",
    "    stop_words = set(stopwords.words('english'))\n",
    "    filtered_tokens = [token for token in tokens if token not in stop_words]\n",
    "    \n",
    "    stemmer = PorterStemmer()\n",
    "    stemmed_tokens = [stemmer.stem(token) for token in filtered_tokens]\n",
    "    preprocessed_text = ' '.join(stemmed_tokens)\n",
    "    \n",
    "    return preprocessed_text\n",
    "\n",
    "# using two text files containing different definition of NLP \n",
    "with open('doc1.txt', 'r') as file:\n",
    "    document1 = file.read()\n",
    "\n",
    "with open('doc2.txt', 'r') as file:\n",
    "    document2 = file.read()\n",
    "\n",
    "doc1 = preprocess_text(document1)\n",
    "doc2 = preprocess_text(document2)\n",
    "\n",
    "# computing the TF-IDF vectors\n",
    "tfidf = TfidfVectorizer()\n",
    "tfidf_matrix = tfidf.fit_transform([doc1, doc2])\n",
    "\n",
    "# calculating cosine similarity\n",
    "similarity = cosine_similarity(tfidf_matrix[0], tfidf_matrix[1])\n",
    "\n",
    "print(\"Cosine similarity between the text documents is:\", similarity[0][0])"
   ]
  },
  {
   "cell_type": "code",
   "execution_count": null,
   "id": "440fd13b-66ef-4a54-b429-166a0902f4f3",
   "metadata": {},
   "outputs": [],
   "source": []
  }
 ],
 "metadata": {
  "kernelspec": {
   "display_name": "Python 3 (ipykernel)",
   "language": "python",
   "name": "python3"
  },
  "language_info": {
   "codemirror_mode": {
    "name": "ipython",
    "version": 3
   },
   "file_extension": ".py",
   "mimetype": "text/x-python",
   "name": "python",
   "nbconvert_exporter": "python",
   "pygments_lexer": "ipython3",
   "version": "3.11.4"
  }
 },
 "nbformat": 4,
 "nbformat_minor": 5
}
